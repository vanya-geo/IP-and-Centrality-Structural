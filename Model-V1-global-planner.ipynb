{
 "cells": [
  {
   "cell_type": "code",
   "execution_count": null,
   "id": "5a1a09cb-0067-4165-bca2-a1523198cf31",
   "metadata": {},
   "outputs": [],
   "source": [
    "\"\"\"\n",
    "## JMP Model - global planner, any C and J\n",
    "## Created Feb 7,2025\n",
    "## Updated Mar 6\n",
    "## Author VG\n",
    "\n",
    "This file solves the optimal policy to maximize global welfare (at equilibrium prices, allocations, and wages) GIVEN wedges\n",
    "The global planner solves one objective function: SUM_c(Y^c)/P_h\n",
    "For any number of countries and sectors. \n",
    "\n",
    "\"\"\"\n",
    "\n",
    "\n",
    "\n",
    "import matplotlib.pyplot as plt\n",
    "import matplotlib.axes as axs\n",
    "import numpy as np\n",
    "import pandas as pd\n",
    "import networkx as nx \n",
    "import textwrap\n",
    "import seaborn as sns\n",
    "import random\n",
    "from scipy.optimize import fsolve\n",
    "from scipy.optimize import minimize\n",
    "\n",
    "maindir=\"/Users/VanyaG1/Dropbox/VANYA/PhD/PROJECTS/Sector Centrality/JMP Model/py/\"\n",
    "\n",
    "from Model_func_2_global_planner import *  \n",
    "#model function: Solve price system and demand system as functions of prices. Then solve for wages using TB condition\n",
    "\n",
    "\n",
    "### NB on matrix conventions\n",
    "#1. First set of index are the buyer. Second set are the seller\n",
    "#2. Untransformed matrices: rows correspond to first sub and super scripts - BUYER. Columns correspond to second sub/superscripts - SELLER\n",
    "\n",
    "\n",
    "\"\"\"\n",
    "Solve for equilibrium and optimal policy given wedges \n",
    "\"\"\"\n",
    "\n",
    "#params \n",
    "C=3 #number of countries\n",
    "J=4 #number of industries\n",
    "epsilon=5 #production side elasticity of substitution\n",
    "sigma=4\n",
    "\n",
    "params=[C,J,epsilon,sigma]\n",
    "L = np.arange(10, C+1 * 10, 10)\n",
    "\n",
    "#sample values\n",
    "rand=123\n",
    "np.random.seed(rand)\n",
    "\n",
    "# CES weights\n",
    "alp = np.random.uniform(0, 0.1, size=(C*J,1)) # weight on intermediates overall\n",
    "gam = np.random.uniform(0, 0.5, size=(C*J, C*J)) # weights on intermediates by sector: row i, col j is weight on input sector j for buying sector i\n",
    "gam = gam/gam.sum(axis=1, keepdims=True) # normalize so that the rows sum to 1\n",
    "\n",
    "#set sample wedges\n",
    "chi_mat=np.random.uniform(0, 0.5, size=(C*J, C*J)) \n",
    "\n",
    "#set initial policy\n",
    "#tau_mat_i=np.random.uniform(0, 0.5, size=(C*J, C*J)) \n",
    "#tau_L_i=np.random.uniform(0, 0.5, size=(C*J, 1))\n",
    "policy_init=np.array(np.random.uniform(0, 0.5, size=((C*J)**2+C*J,1))).reshape(1,-1)\n",
    "\n",
    "iteration=0\n",
    "def GE_loop(tau_init,params,L,alp,gam,chi_mat,iteration):\n",
    "    #tau_init=tau_init.reshape(-1,1)\n",
    "    #reshape the policy into the matrices: tau_mat and tau_L\n",
    "    tau_mat=tau_init[0:-(C*J)].reshape((C*J,C*J))\n",
    "    tau_L=tau_init[-(C*J):].reshape((C*J,1))\n",
    "    \n",
    "    #Guess initial wage C-1 countries, c=1 wage normalized\n",
    "    init_guess=2*np.ones(C-1).reshape(-1,1)\n",
    "\n",
    "    #Run function to solve for equilibrium wages\n",
    "    #model function: Solve price system and demand system as functions of prices. \n",
    "    #Then solve for wages using TB condition. Returns wage for c=2, wage for c=1 normalized to 1\n",
    "    solve_eq=1\n",
    "    W_solved = fsolve(solver,init_guess,args=(params,L,alp,gam,chi_mat,tau_mat,tau_L,solve_eq))\n",
    "\n",
    "    #run solver function again at the equilibrium W to pull out allocation, prices, wages, TB\n",
    "    solve_eq=0\n",
    "    Y_c, Pi_c, P_h, P_vec, R_mat, R_ic, s_ij, s_L, s_h_mat, TB, TB_c0 = solver(W_solved,params,L,alp,gam,chi_mat,tau_mat,tau_L,solve_eq)\n",
    "    W_out=np.concatenate((np.array([1]),W_solved), axis=0).reshape(-1,1)\n",
    "    \n",
    "    iteration=iteration+1\n",
    "    planner_obj=-np.sum(Y_c)/P_h\n",
    "    print(\"objective function: \"+str(planner_obj))\n",
    "    return planner_obj\n",
    "\n",
    "##planner chooses optimal policy (tau-s) to maximize planner_obj\n",
    "tau_solved = minimize(GE_loop,policy_init[0],args=(params,L,alp,gam,chi_mat,iteration))\n",
    "#GE_loop(params,L,alp,gam,chi_mat,tau_init)"
   ]
  },
  {
   "cell_type": "code",
   "execution_count": 15,
   "id": "e0660ad6-add5-4265-bb72-a4d893ea18de",
   "metadata": {},
   "outputs": [
    {
     "data": {
      "text/plain": [
       "np.float64(-0.42088544704684827)"
      ]
     },
     "execution_count": 15,
     "metadata": {},
     "output_type": "execute_result"
    }
   ],
   "source": [
    "min(tau_solved.x)"
   ]
  },
  {
   "cell_type": "code",
   "execution_count": 16,
   "id": "ab0750aa-4080-4ee2-9b16-38146ef4677d",
   "metadata": {},
   "outputs": [
    {
     "data": {
      "text/plain": [
       "  message: Optimization terminated successfully.\n",
       "  success: True\n",
       "   status: 0\n",
       "      fun: -68.16418942396577\n",
       "        x: [ 8.340e-05  4.744e-03 ... -4.203e-01 -4.203e-01]\n",
       "      nit: 261\n",
       "      jac: [ 0.000e+00  9.537e-06 ...  2.861e-06 -1.907e-06]\n",
       " hess_inv: [[ 1.036e+00 -8.510e-01 ... -6.893e-04 -2.900e-03]\n",
       "            [-8.510e-01  1.450e+02 ...  1.976e-01  2.183e-01]\n",
       "            ...\n",
       "            [-6.893e-04  1.976e-01 ...  3.332e-01  3.167e-01]\n",
       "            [-2.900e-03  2.183e-01 ...  3.167e-01  4.178e-01]]\n",
       "     nfev: 42547\n",
       "     njev: 271"
      ]
     },
     "execution_count": 16,
     "metadata": {},
     "output_type": "execute_result"
    }
   ],
   "source": [
    "tau_solved"
   ]
  },
  {
   "cell_type": "code",
   "execution_count": null,
   "id": "241fa07b-1c1f-457d-9802-b716babaa8c5",
   "metadata": {
    "jupyter": {
     "source_hidden": true
    },
    "tags": []
   },
   "outputs": [],
   "source": [
    "###back up--\n",
    "\"\"\"\n",
    "Solve for equilibrium given wedges and policy\n",
    "\"\"\"\n",
    "\n",
    "#params \n",
    "C=10 #number of countries\n",
    "J=20 #number of industries\n",
    "epsilon=5 #production side elasticity of substitution\n",
    "sigma=4\n",
    "\n",
    "params=[C,J,epsilon,sigma]\n",
    "\n",
    "L = np.arange(10, C+1 * 10, 10)\n",
    "rand=123\n",
    "#sample values\n",
    "np.random.seed(rand)\n",
    "\n",
    "# CES weights\n",
    "alp = np.random.uniform(0, 0.1, size=(C*J,1)) # weight on intermediates overall\n",
    "gam = np.random.uniform(0, 0.5, size=(C*J, C*J)) # weights on intermediates by sector: row i, col j is weight on input sector j for buying sector i\n",
    "gam = gam/gam.sum(axis=1, keepdims=True) # normalize so that the rows sum to 1\n",
    "\n",
    "#set sample wedges\n",
    "chi_mat=np.random.uniform(0, 0.5, size=(C*J, C*J)) \n",
    "\n",
    "#set sample policy\n",
    "tau_mat=np.random.uniform(0, 0.5, size=(C*J, C*J)) \n",
    "tau_L=np.random.uniform(0, 0.5, size=(C*J, 1))\n",
    "\n",
    "\n",
    "\n",
    "#Guess initial wage C-1 countries, c=1 wage normalized\n",
    "init_guess=2*np.ones(C-1).reshape(-1,1)\n",
    "#init_guess=2*np.ones(C).reshape(-1,1)\n",
    "\n",
    "#Run function to solve for equilibrium wages\n",
    "#model function: Solve price system and demand system as functions of prices. \n",
    "#Then solve for wages using TB condition. Returns wage for c=2, wage for c=1 normalized to 1\n",
    "solve_eq=1\n",
    "W_solved = fsolve(solver,init_guess,args=(params,L,alp,gam,chi_mat,tau_mat,tau_L,solve_eq))\n",
    "\n",
    "#run solver function again at the equilibrium W to pull out allocation, prices, wages, TB\n",
    "solve_eq=0\n",
    "Y_c, Pi_c, P_h, P_vec, R_mat, R_ic, s_ij, s_L, s_h_mat, TB, TB_c0 = solver(W_solved,params,L,alp,gam,chi_mat,tau_mat,tau_L,solve_eq)\n",
    "W_out=np.concatenate((np.array([1]),W_solved), axis=0).reshape(-1,1)\n",
    "Y_c\n",
    "\n"
   ]
  },
  {
   "cell_type": "code",
   "execution_count": null,
   "id": "759e0d08-3fb2-463a-9cdb-4e0a99158469",
   "metadata": {},
   "outputs": [],
   "source": []
  },
  {
   "cell_type": "code",
   "execution_count": null,
   "id": "08b1ec63-78e5-4557-a886-5fab20eeff41",
   "metadata": {},
   "outputs": [],
   "source": []
  },
  {
   "cell_type": "code",
   "execution_count": null,
   "id": "170bf617-ffde-4a4f-880d-7d599138089d",
   "metadata": {},
   "outputs": [],
   "source": []
  },
  {
   "cell_type": "code",
   "execution_count": null,
   "id": "becf7eb7-2d10-434f-8abc-dde707cb60c6",
   "metadata": {},
   "outputs": [],
   "source": []
  },
  {
   "cell_type": "code",
   "execution_count": null,
   "id": "ff33c6e4-a1cb-4012-a58e-4dcd86bddbd7",
   "metadata": {},
   "outputs": [],
   "source": []
  },
  {
   "cell_type": "code",
   "execution_count": null,
   "id": "653849c5-bb2a-4f04-ab2e-5ee1a73a56ed",
   "metadata": {},
   "outputs": [],
   "source": []
  },
  {
   "cell_type": "code",
   "execution_count": null,
   "id": "78235baf-510d-4b5a-867e-52a260ecfa33",
   "metadata": {},
   "outputs": [],
   "source": []
  }
 ],
 "metadata": {
  "kernelspec": {
   "display_name": "Python 3 (ipykernel)",
   "language": "python",
   "name": "python3"
  },
  "language_info": {
   "codemirror_mode": {
    "name": "ipython",
    "version": 3
   },
   "file_extension": ".py",
   "mimetype": "text/x-python",
   "name": "python",
   "nbconvert_exporter": "python",
   "pygments_lexer": "ipython3",
   "version": "3.10.16"
  }
 },
 "nbformat": 4,
 "nbformat_minor": 5
}
